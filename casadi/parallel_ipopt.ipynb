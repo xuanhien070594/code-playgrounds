{
 "cells": [
  {
   "cell_type": "code",
   "execution_count": null,
   "metadata": {},
   "outputs": [],
   "source": [
    "import numpy as np\n",
    "import casadi\n",
    "from multiprocessing import Pool\n",
    "\n",
    "from casadi import *\n",
    "\n",
    "N = 250\n",
    "rs = np.linspace(1,3,N)\n",
    "\n",
    "x = SX.sym('x')\n",
    "y = SX.sym('y')\n",
    "\n",
    "v = vertcat(x,y)\n",
    "f = (1-x)**2+(y-x**2)**2\n",
    "g = x**2+y**2\n",
    "nlp = {'x': v, 'f': f, 'g': g}\n",
    "\n",
    "# Create IPOPT solver object\n",
    "solver = casadi.nlpsol('solver', 'ipopt', nlp)\n",
    "\n",
    "def optimize(r):\n",
    "  res = solver(x0=[2.5,3.0],      # solution guess\n",
    "               lbx=-np.inf,          # lower bound on x\n",
    "               ubx=np.inf,           # upper bound on x\n",
    "               lbg=-np.inf,          # lower bound on g\n",
    "               ubg=r)         # upper bound on g\n",
    "   \n",
    "  \n",
    "  return float(res[\"f\"])\n",
    "\n",
    "b = Pool(2)\n",
    "fsol = b.map(optimize, rs)"
   ]
  },
  {
   "cell_type": "code",
   "execution_count": null,
   "metadata": {},
   "outputs": [],
   "source": []
  }
 ],
 "metadata": {
  "kernelspec": {
   "display_name": "venv",
   "language": "python",
   "name": "python3"
  },
  "language_info": {
   "name": "python",
   "version": "3.8.10"
  },
  "orig_nbformat": 4
 },
 "nbformat": 4,
 "nbformat_minor": 2
}
