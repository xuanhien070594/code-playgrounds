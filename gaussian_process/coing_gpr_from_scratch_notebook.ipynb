{
 "cells": [
  {
   "cell_type": "markdown",
   "id": "117d3726",
   "metadata": {},
   "source": [
    "# Gaussian process regression - hands on implementation"
   ]
  },
  {
   "cell_type": "markdown",
   "id": "87a6f995",
   "metadata": {},
   "source": [
    "## Overview"
   ]
  },
  {
   "cell_type": "markdown",
   "id": "dcb462c6",
   "metadata": {},
   "source": [
    "This notebook contains a complete implementation of a Gaussian Process Regressor (GPR) with a squared exponential kernel using Numpy for matrix operations and Plotly for visualisation. \n",
    "\n",
    "The purpose of this notebook is to understand the main components of a GPR and to visualise the effects of certain parameters on the output. \n",
    "It is _not_ intended as a theoretical introduction to GPRs.\n",
    "A good introduction can be found [here](http://www.gaussianprocess.org/gpml/chapters/RW.pdf). \n",
    "\n",
    "Stable and effective implementations of GPR's are available, for example, in the [gpytorch](https://gpytorch.ai) package."
   ]
  },
  {
   "cell_type": "markdown",
   "id": "bfc98796",
   "metadata": {},
   "source": [
    "## Packages"
   ]
  },
  {
   "cell_type": "code",
   "execution_count": 1,
   "id": "b48ebe22",
   "metadata": {},
   "outputs": [],
   "source": [
    "import numpy as np\n",
    "import plotly.graph_objects as go\n",
    "from ipywidgets import interact, widgets"
   ]
  },
  {
   "cell_type": "markdown",
   "id": "4575ccbd",
   "metadata": {},
   "source": [
    "## Plotting helper functions"
   ]
  },
  {
   "cell_type": "markdown",
   "id": "caa8c0bf",
   "metadata": {},
   "source": [
    "To have nice visualizations of the later GPR, we use Plotly and to have structured and lean code, we define a few commonly used 'helpers' here. "
   ]
  },
  {
   "cell_type": "code",
   "execution_count": 2,
   "id": "ad8a0219",
   "metadata": {
    "code_folding": [
     0
    ]
   },
   "outputs": [],
   "source": [
    "def update_layout_of_graph(fig: go.Figure,title: str = 'Plot')->go.Figure:\n",
    "    fig.update_layout(\n",
    "        width=800,\n",
    "        height=600,\n",
    "        autosize=False,\n",
    "        plot_bgcolor='rgba(0,0,0,0)',\n",
    "        title=title,\n",
    "        \n",
    "    )\n",
    "    fig.update_layout(plot_bgcolor='rgba(0,0,0,0)',\n",
    "                      xaxis_title = 'input values',\n",
    "                      yaxis_title = 'output values',\n",
    "                      legend=dict(yanchor=\"top\",\n",
    "                                  y=0.9,\n",
    "                                  xanchor=\"right\",\n",
    "                                  x=0.95),\n",
    "                      title={\n",
    "                          'x': 0.5,\n",
    "                          'xanchor': 'center'\n",
    "                      })\n",
    "    fig.update_xaxes(showline=True, linewidth=1, linecolor='black')\n",
    "    fig.update_yaxes(showline=True, linewidth=1, linecolor='black')\n",
    "    return fig"
   ]
  },
  {
   "cell_type": "code",
   "execution_count": 3,
   "id": "66e5a661",
   "metadata": {
    "code_folding": [
     0,
     6
    ]
   },
   "outputs": [],
   "source": [
    "def line_scatter(\n",
    "    visible: bool = True,\n",
    "    x_lines: np.array = np.array([]),\n",
    "    y_lines: np.array = np.array([]),\n",
    "    name_line: str = 'Predicted function',\n",
    "    showlegend: bool = True,\n",
    ") -> go.Scatter:\n",
    "    # Adding the lines\n",
    "    return go.Scatter(\n",
    "        visible=visible,\n",
    "        line=dict(color=\"blue\", width=2),\n",
    "        x=x_lines,\n",
    "        y=y_lines,\n",
    "        name=name_line,\n",
    "        showlegend= showlegend\n",
    "    )"
   ]
  },
  {
   "cell_type": "code",
   "execution_count": 4,
   "id": "f0b4e5ac",
   "metadata": {
    "code_folding": [
     0,
     6
    ]
   },
   "outputs": [],
   "source": [
    "def dot_scatter(\n",
    "    visible: bool = True,\n",
    "    x_dots: np.array = np.array([]),\n",
    "    y_dots: np.array = np.array([]),\n",
    "    name_dots: str = 'Observed points',\n",
    "    showlegend: bool = True\n",
    ") -> go.Scatter:\n",
    "    # Adding the dots\n",
    "    return go.Scatter(\n",
    "        x=x_dots,\n",
    "        visible=visible,\n",
    "        y=y_dots,\n",
    "        mode=\"markers\",\n",
    "        name=name_dots,\n",
    "        marker=dict(color='red', size=8),\n",
    "        showlegend=showlegend\n",
    "    )"
   ]
  },
  {
   "cell_type": "code",
   "execution_count": 5,
   "id": "8dda25c4",
   "metadata": {
    "code_folding": [
     0,
     6
    ]
   },
   "outputs": [],
   "source": [
    "def uncertainty_area_scatter(\n",
    "        visible: bool = True,\n",
    "        x_lines: np.array = np.array([]),\n",
    "        y_upper: np.array = np.array([]),\n",
    "        y_lower: np.array = np.array([]),\n",
    "        name: str = \"mean plus/minus standard deviation\",\n",
    ") -> go.Scatter:\n",
    "\n",
    "    return go.Scatter(\n",
    "        visible=visible,\n",
    "        x=np.concatenate((x_lines, x_lines[::-1])),  # x, then x reversed\n",
    "        # upper, then lower reversed\n",
    "        y=np.concatenate((y_upper, y_lower[::-1])),\n",
    "        fill='toself',\n",
    "        fillcolor='rgba(189,195,199,0.5)',\n",
    "        line=dict(color='rgba(200,200,200,0)'),\n",
    "        hoverinfo=\"skip\",\n",
    "        showlegend=True,\n",
    "        name= name,\n",
    "    )"
   ]
  },
  {
   "cell_type": "code",
   "execution_count": 6,
   "id": "6a0be169",
   "metadata": {
    "code_folding": [
     0
    ]
   },
   "outputs": [],
   "source": [
    "def add_slider_GPR(figure: go.Figure, parameters):\n",
    "    figure.data[0].visible = True\n",
    "    figure.data[1].visible = True\n",
    "\n",
    "    # Create and add slider\n",
    "    steps = []\n",
    "    for i in range(int((len(figure.data) - 1) / 2)):\n",
    "        step = dict(\n",
    "            method=\"update\",\n",
    "            label=f'{parameters[i]: .2f}',\n",
    "            args=[{\n",
    "                \"visible\": [False] * (len(figure.data) - 1) + [True]\n",
    "            }],\n",
    "        )\n",
    "        step[\"args\"][0][\"visible\"][2 *\n",
    "                                   i] = True  # Toggle i'th trace to \"visible\"\n",
    "        step[\"args\"][0][\"visible\"][2 * i + 1] = True\n",
    "        steps.append(step)\n",
    "\n",
    "    sliders = [dict(\n",
    "        active=0,\n",
    "        pad={\"t\": 50},\n",
    "        steps=steps,\n",
    "    )]\n",
    "    figure.update_layout(sliders=sliders, )\n",
    "    return figure"
   ]
  },
  {
   "cell_type": "code",
   "execution_count": 7,
   "id": "cf44e383",
   "metadata": {
    "code_folding": [
     0
    ]
   },
   "outputs": [],
   "source": [
    "def add_slider_to_function(figure:go.Figure, parameters):\n",
    "    figure.data[0].visible = True\n",
    "\n",
    "    # Create and add slider\n",
    "    steps = []\n",
    "    for i in range(len(figure.data)):\n",
    "        step = dict(\n",
    "            method=\"update\",\n",
    "            label=f'{parameters[i]: .2f}',\n",
    "            args=[{\n",
    "                \"visible\": [False] *len(figure.data) \n",
    "            }],\n",
    "        )\n",
    "        step[\"args\"][0][\"visible\"][i] = True  # Toggle i'th trace to \"visible\"\n",
    "        steps.append(step)\n",
    "\n",
    "    sliders = [dict(\n",
    "        active=0,\n",
    "        pad={\"t\": 50},\n",
    "        steps=steps,\n",
    "    )]\n",
    "    figure.update_layout(sliders=sliders, )\n",
    "    return figure"
   ]
  },
  {
   "cell_type": "markdown",
   "id": "9058664e",
   "metadata": {},
   "source": [
    "## Implementation of GPR with squared exponential kernel"
   ]
  },
  {
   "cell_type": "markdown",
   "id": "fa792ab3",
   "metadata": {},
   "source": [
    "In order to define a gaussian process regressor (GPR) we need a covariance function (also called kernel). The choice of this function will determine the 'shape' of the later GPR. \n",
    "\n",
    "In this notebook we choose the popular _squared exponential_ kernel:\n",
    "$$ k(x_1,x_2):= \\sigma^2*\\exp(-\\|x_1-x_2\\|^2_2)/(2*l^2))$$\n",
    "with $$l>0$$ the lengthscale and $$\\sigma^2>0$$ the signal variance. \n",
    "You are encouraged to implement a different kernel and see the difference in the resulting GPR!\n",
    "\n"
   ]
  },
  {
   "cell_type": "code",
   "execution_count": 8,
   "id": "cbc55090",
   "metadata": {},
   "outputs": [],
   "source": [
    "class SquaredExponentialKernel:\n",
    "    def __init__(self, sigma_f: float = 1, length: float = 1):\n",
    "        self.sigma_f = sigma_f\n",
    "        self.length = length\n",
    "\n",
    "    def __call__(self, argument_1: np.array, argument_2: np.array) -> float:\n",
    "        return float(self.sigma_f *\n",
    "                     np.exp(-(np.linalg.norm(argument_1 - argument_2)**2) /\n",
    "                            (2 * self.length**2)))"
   ]
  },
  {
   "cell_type": "markdown",
   "id": "b23258da",
   "metadata": {},
   "source": [
    "Let us visualize this kernel."
   ]
  },
  {
   "cell_type": "code",
   "execution_count": 9,
   "id": "e1cd79c0",
   "metadata": {},
   "outputs": [
    {
     "data": {
      "application/vnd.jupyter.widget-view+json": {
       "model_id": "e9b3687d2c7c4c799d8386e933099aec",
       "version_major": 2,
       "version_minor": 0
      },
      "text/plain": [
       "interactive(children=(FloatSlider(value=1.0, description='length', max=3.0, min=0.1), FloatSlider(value=0.0, d…"
      ]
     },
     "metadata": {},
     "output_type": "display_data"
    },
    {
     "data": {
      "application/vnd.jupyter.widget-view+json": {
       "model_id": "628bd5e2fa8b4285ad899641b64e697f",
       "version_major": 2,
       "version_minor": 0
      },
      "text/plain": [
       "FigureWidget({\n",
       "    'data': [{'line': {'color': 'blue', 'width': 2},\n",
       "              'name': 'Predicted function'…"
      ]
     },
     "metadata": {},
     "output_type": "display_data"
    }
   ],
   "source": [
    "x_lines = np.arange(-10, 10, 0.1)\n",
    "kernel = SquaredExponentialKernel(length=1)\n",
    "\n",
    "fig0 = go.FigureWidget(data=[\n",
    "    line_scatter(\n",
    "        x_lines=x_lines,\n",
    "        y_lines=np.array([kernel(x, 0) for x in x_lines]),\n",
    "    )\n",
    "])\n",
    "\n",
    "fig0 = update_layout_of_graph(fig0, title='Squared exponential kernel')\n",
    "\n",
    "\n",
    "@interact(length=(0.1, 3, 0.1), argument_2=(-10, 10, 0.1))\n",
    "def update(length=1, argument_2=0):\n",
    "    with fig0.batch_update():\n",
    "        kernel = SquaredExponentialKernel(length=length)\n",
    "        fig0.data[0].y = np.array([kernel(x, argument_2) for x in x_lines])\n",
    "\n",
    "\n",
    "fig0"
   ]
  },
  {
   "cell_type": "markdown",
   "id": "613a3946",
   "metadata": {},
   "source": [
    "In the practical implementation of the GPR you will face a couple of stability problems. Among others, numeric approximations in dealing with matrix (operations) may lead to non-invertible/non-positive-semi-definite covariance matrices which result in errors when calculating the GPR. \n",
    "\n",
    "In order to prevent this error we add the _machine epsilon_ to the diagonal of the later covariance matrix:"
   ]
  },
  {
   "cell_type": "code",
   "execution_count": 10,
   "id": "517a082d",
   "metadata": {},
   "outputs": [
    {
     "name": "stdout",
     "output_type": "stream",
     "text": [
      "2.220446049250313e-16\n",
      "1.1920929e-07\n"
     ]
    }
   ],
   "source": [
    "print(np.finfo(float).eps)\n",
    "# 2.22044604925e-16\n",
    "\n",
    "print(np.finfo(np.float32).eps)\n",
    "# 1.19209e-07"
   ]
  },
  {
   "cell_type": "markdown",
   "id": "18f81bfc",
   "metadata": {},
   "source": [
    "Let us shortly recall the formula:\n",
    "Given training points $x_1,...,x_n\\in \\mathbb{R}^m$ with values $y_1,...,y_n\\in \\mathbb{R}$, $y = (y_i)\\in \\mathbb{R}^n$ with noise in each point $\\mathcal{N}_{0,\\sigma}$  and points $x_{n+1},...,x_k\\in \\mathbb{R}^m$ for which we want to predict the output, adapting our probability distribution leads to:\n",
    "\n",
    "$$\\mathcal{N}(K_*K^{-1}y,K_{**}-K_*K^{-1}K_*^T)$$\n",
    "with \n",
    "$$K= (k(x_i,x_j))_{i,j\\leq n}+\\sigma^2*\\mathbb{1}_n$$\n",
    "$$K_*= (k(x_i,x_j))_{n+1\\leq i, j\\leq n}$$\n",
    "$$K_{**}= (k(x_i,x_j))_{n+1\\leq i,j}$$"
   ]
  },
  {
   "cell_type": "code",
   "execution_count": 10,
   "id": "06c65a7a",
   "metadata": {},
   "outputs": [],
   "source": [
    "# Helper function to calculate the respective covariance matrices\n",
    "def cov_matrix(x1, x2, cov_function) -> np.array:\n",
    "    return np.array([[cov_function(a, b) for a in x1] for b in x2])"
   ]
  },
  {
   "cell_type": "code",
   "execution_count": 11,
   "id": "d9bdfc5b",
   "metadata": {},
   "outputs": [],
   "source": [
    "class GPR:\n",
    "    def __init__(self,\n",
    "                 data_x: np.array,\n",
    "                 data_y: np.array,\n",
    "                 covariance_function=SquaredExponentialKernel(),\n",
    "                 white_noise_sigma: float = 0):\n",
    "        self.noise = white_noise_sigma\n",
    "        self.data_x = data_x\n",
    "        self.data_y = data_y\n",
    "        self.covariance_function = covariance_function\n",
    "\n",
    "        # Store the inverse of covariance matrix of input (+ machine epsilon on diagonal) since it is needed for every prediction\n",
    "        self._inverse_of_covariance_matrix_of_input = np.linalg.inv(\n",
    "            cov_matrix(data_x, data_x, covariance_function) +\n",
    "            (3e-7 + self.noise) * np.identity(len(self.data_x)))\n",
    "\n",
    "        self._memory = None\n",
    "\n",
    "    # function to predict output at new input values. Store the mean and covariance matrix in memory.\n",
    "\n",
    "    def predict(self, at_values: np.array) -> np.array:\n",
    "        k_lower_left = cov_matrix(self.data_x, at_values,\n",
    "                                  self.covariance_function)\n",
    "        k_lower_right = cov_matrix(at_values, at_values,\n",
    "                                   self.covariance_function)\n",
    "\n",
    "        # Mean.\n",
    "        mean_at_values = np.dot(\n",
    "            k_lower_left,\n",
    "            np.dot(self.data_y,\n",
    "                   self._inverse_of_covariance_matrix_of_input.T).T).flatten()\n",
    "\n",
    "        # Covariance.\n",
    "        cov_at_values = k_lower_right - \\\n",
    "            np.dot(k_lower_left, np.dot(\n",
    "                self._inverse_of_covariance_matrix_of_input, k_lower_left.T))\n",
    "\n",
    "        # Adding value larger than machine epsilon to ensure positive semi definite\n",
    "        cov_at_values = cov_at_values + 3e-7 * np.ones(\n",
    "            np.shape(cov_at_values)[0])\n",
    "\n",
    "        var_at_values = np.diag(cov_at_values)\n",
    "\n",
    "        self._memory = {\n",
    "            'mean': mean_at_values,\n",
    "            'covariance_matrix': cov_at_values,\n",
    "            'variance': var_at_values\n",
    "        }\n",
    "        return mean_at_values"
   ]
  },
  {
   "cell_type": "markdown",
   "id": "9e6b586e",
   "metadata": {},
   "source": [
    "That's it. The GPR is ready to be used! "
   ]
  },
  {
   "cell_type": "markdown",
   "id": "a5e2f744",
   "metadata": {},
   "source": [
    "## Testing"
   ]
  },
  {
   "cell_type": "markdown",
   "id": "decbe1a4",
   "metadata": {},
   "source": [
    "Let us initialize our GPR on a random training set and visualize the GPR. "
   ]
  },
  {
   "cell_type": "markdown",
   "id": "4a9aa377",
   "metadata": {},
   "source": [
    "### Initializing training data"
   ]
  },
  {
   "cell_type": "code",
   "execution_count": 12,
   "id": "12f59452",
   "metadata": {},
   "outputs": [],
   "source": [
    "x_values = np.array([0, 0.3, 1, 3.1, 4.7])\n",
    "\n",
    "y_values = np.array([1, 0, 1.4, 0, -0.9])"
   ]
  },
  {
   "cell_type": "code",
   "execution_count": 16,
   "id": "baf9cac1",
   "metadata": {},
   "outputs": [],
   "source": [
    "x = np.arange(-1,7,0.1)"
   ]
  },
  {
   "cell_type": "markdown",
   "id": "8410f233",
   "metadata": {},
   "source": [
    "### Plot the output"
   ]
  },
  {
   "cell_type": "markdown",
   "id": "fe426230",
   "metadata": {},
   "source": [
    "Let us define a helper function which returns a list of all plots of data points, mean, etc. needed to plot a GPR."
   ]
  },
  {
   "cell_type": "code",
   "execution_count": 14,
   "id": "b99b06c2",
   "metadata": {},
   "outputs": [],
   "source": [
    "def plot_GPR(data_x, data_y, model, x, visible=True) -> list:\n",
    "    mean = model.predict(x)\n",
    "\n",
    "    std = np.sqrt(model._memory['variance'])\n",
    "    data = []\n",
    "\n",
    "    for i in range(1, 4):\n",
    "        data.append(\n",
    "            uncertainty_area_scatter(\n",
    "                x_lines=x,\n",
    "                y_lower=mean - i * std,\n",
    "                y_upper=mean + i * std,\n",
    "                name=f\"mean plus/minus {i}*standard deviation\",\n",
    "                visible=visible))\n",
    "\n",
    "    data.append(line_scatter(x_lines=x, y_lines=mean, visible=visible))\n",
    "    data.append(dot_scatter(x_dots=data_x, y_dots=data_y, visible=visible))\n",
    "    return data"
   ]
  },
  {
   "cell_type": "markdown",
   "id": "51cd9df1",
   "metadata": {},
   "source": [
    "Now, we can visualize our first GPR."
   ]
  },
  {
   "cell_type": "code",
   "execution_count": 17,
   "id": "9a82c61f",
   "metadata": {},
   "outputs": [
    {
     "data": {
      "application/vnd.plotly.v1+json": {
       "config": {
        "plotlyServerURL": "https://plot.ly"
       },
       "data": [
        {
         "fill": "toself",
         "fillcolor": "rgba(189,195,199,0.5)",
         "hoverinfo": "skip",
         "line": {
          "color": "rgba(200,200,200,0)"
         },
         "name": "mean plus/minus 1*standard deviation",
         "showlegend": true,
         "type": "scatter",
         "visible": true,
         "x": [
          -1,
          -0.9,
          -0.8,
          -0.7000000000000001,
          -0.6000000000000001,
          -0.5000000000000001,
          -0.40000000000000013,
          -0.30000000000000016,
          -0.20000000000000018,
          -0.1000000000000002,
          -2.220446049250313e-16,
          0.09999999999999964,
          0.19999999999999973,
          0.2999999999999998,
          0.3999999999999997,
          0.49999999999999956,
          0.5999999999999996,
          0.6999999999999997,
          0.7999999999999996,
          0.8999999999999995,
          0.9999999999999996,
          1.0999999999999996,
          1.1999999999999993,
          1.2999999999999994,
          1.3999999999999995,
          1.4999999999999996,
          1.5999999999999996,
          1.6999999999999993,
          1.7999999999999994,
          1.8999999999999995,
          1.9999999999999991,
          2.099999999999999,
          2.1999999999999993,
          2.2999999999999994,
          2.3999999999999995,
          2.499999999999999,
          2.599999999999999,
          2.6999999999999993,
          2.799999999999999,
          2.899999999999999,
          2.999999999999999,
          3.0999999999999988,
          3.1999999999999993,
          3.299999999999999,
          3.3999999999999986,
          3.499999999999999,
          3.5999999999999988,
          3.6999999999999993,
          3.799999999999999,
          3.8999999999999986,
          3.999999999999999,
          4.099999999999999,
          4.199999999999999,
          4.299999999999999,
          4.399999999999999,
          4.499999999999999,
          4.599999999999999,
          4.699999999999998,
          4.799999999999999,
          4.899999999999999,
          4.999999999999998,
          5.099999999999999,
          5.199999999999998,
          5.299999999999999,
          5.399999999999999,
          5.499999999999998,
          5.599999999999999,
          5.699999999999998,
          5.799999999999999,
          5.899999999999999,
          5.999999999999998,
          6.099999999999999,
          6.199999999999998,
          6.299999999999998,
          6.399999999999999,
          6.499999999999998,
          6.599999999999998,
          6.699999999999998,
          6.799999999999998,
          6.899999999999999,
          6.899999999999999,
          6.799999999999998,
          6.699999999999998,
          6.599999999999998,
          6.499999999999998,
          6.399999999999999,
          6.299999999999998,
          6.199999999999998,
          6.099999999999999,
          5.999999999999998,
          5.899999999999999,
          5.799999999999999,
          5.699999999999998,
          5.599999999999999,
          5.499999999999998,
          5.399999999999999,
          5.299999999999999,
          5.199999999999998,
          5.099999999999999,
          4.999999999999998,
          4.899999999999999,
          4.799999999999999,
          4.699999999999998,
          4.599999999999999,
          4.499999999999999,
          4.399999999999999,
          4.299999999999999,
          4.199999999999999,
          4.099999999999999,
          3.999999999999999,
          3.8999999999999986,
          3.799999999999999,
          3.6999999999999993,
          3.5999999999999988,
          3.499999999999999,
          3.3999999999999986,
          3.299999999999999,
          3.1999999999999993,
          3.0999999999999988,
          2.999999999999999,
          2.899999999999999,
          2.799999999999999,
          2.6999999999999993,
          2.599999999999999,
          2.499999999999999,
          2.3999999999999995,
          2.2999999999999994,
          2.1999999999999993,
          2.099999999999999,
          1.9999999999999991,
          1.8999999999999995,
          1.7999999999999994,
          1.6999999999999993,
          1.5999999999999996,
          1.4999999999999996,
          1.3999999999999995,
          1.2999999999999994,
          1.1999999999999993,
          1.0999999999999996,
          0.9999999999999996,
          0.8999999999999995,
          0.7999999999999996,
          0.6999999999999997,
          0.5999999999999996,
          0.49999999999999956,
          0.3999999999999997,
          0.2999999999999998,
          0.19999999999999973,
          0.09999999999999964,
          -2.220446049250313e-16,
          -0.1000000000000002,
          -0.20000000000000018,
          -0.30000000000000016,
          -0.40000000000000013,
          -0.5000000000000001,
          -0.6000000000000001,
          -0.7000000000000001,
          -0.8,
          -0.9,
          -1
         ],
         "y": [
          5.26224718037836,
          5.132931579501741,
          4.907301926119215,
          4.588303984214412,
          4.184093431283843,
          3.7080220411599925,
          3.1782428507071394,
          2.616929496828128,
          2.049140033766622,
          1.5013935020957734,
          1.0007610617620117,
          0.583288189340208,
          0.2433098213017002,
          0.0007923226826870658,
          -0.11287861389531748,
          -0.10478859172411284,
          0.020532736528577684,
          0.25251061430684624,
          0.5745792567789871,
          0.965337503280427,
          1.4007684651117305,
          1.9085389821331191,
          2.4252978284583406,
          2.923236153660477,
          3.3772057975576675,
          3.7653506603718534,
          4.070173325318329,
          4.279240071939234,
          4.385502285677289,
          4.387246936170388,
          4.287717693502854,
          4.094470152243086,
          3.818538260538041,
          3.4734940968774914,
          3.0744802391347688,
          2.63728452683143,
          2.1775129203113126,
          1.7098995064194131,
          1.24777552086942,
          0.8027033178574229,
          0.38426815268773207,
          0.0007749850159941757,
          -0.18451847594818496,
          -0.3329955418944833,
          -0.4487103760091319,
          -0.535964290144533,
          -0.5996647588727309,
          -0.6449480701398557,
          -0.6768479202000761,
          -0.7000222230996824,
          -0.718544798656328,
          -0.7357639113308723,
          -0.7542256504588656,
          -0.7756569035088542,
          -0.8010001844104369,
          -0.8304907957860329,
          -0.8637653833963148,
          -0.8992252357512334,
          -0.7583850954328242,
          -0.6135194953276522,
          -0.4681297025150042,
          -0.32466415666037685,
          -0.18526115216127248,
          -0.05173055359502554,
          0.07445804464591121,
          0.19217886652041438,
          0.3006441642669462,
          0.3993886878104302,
          0.48824473140124364,
          0.5673088139968467,
          0.6369017264811653,
          0.6975242145427526,
          0.749810893998122,
          0.794485068812333,
          0.832316923215527,
          0.8640871069690197,
          0.8905570857532823,
          0.9124468803338945,
          0.9304200811657818,
          0.9450754072048752,
          -1.0463496528479335,
          -1.0563932158353904,
          -1.067668231619064,
          -1.0800349355184538,
          -1.0932496534806502,
          -1.1069534951530464,
          -1.1206680504527442,
          -1.1338002086567363,
          -1.1456576355155554,
          -1.1554755848063558,
          -1.1624546713140522,
          -1.1658080993789655,
          -1.1648157342143661,
          -1.158881420888219,
          -1.1475891810800407,
          -1.1307534177240655,
          -1.1084580854797932,
          -1.081079979131816,
          -1.0492918738271175,
          -1.0140422225058012,
          -0.9765094742491511,
          -0.9380310751130965,
          -0.9007744289633828,
          -1.0353685172699516,
          -1.1612691607735344,
          -1.2742975063575117,
          -1.3708839501688015,
          -1.4473408516231603,
          -1.4999079425332187,
          -1.5248080983695333,
          -1.518317196759885,
          -1.4768525371827672,
          -1.3970841909499097,
          -1.2760728637518393,
          -1.1114362948760173,
          -0.9015438199551765,
          -0.6457355043705229,
          -0.3445586282096801,
          -0.0007742081909954034,
          0.22242550901677524,
          0.4828019749311173,
          0.7790046995329897,
          1.10650775446502,
          1.4582472195644995,
          1.824646649859253,
          2.1938207962176013,
          2.5519734672448386,
          2.883991749095596,
          3.174222648806716,
          3.407400318631055,
          3.5696738383186792,
          3.6496689471432435,
          3.6395041901999354,
          3.5356746953159583,
          3.339716931789265,
          3.0585764234030957,
          2.7046177441769017,
          2.295241376516155,
          1.8521022130938054,
          1.3992192725567454,
          0.9270525771469715,
          0.5157135918241691,
          0.1888567167212313,
          -0.03521452842023615,
          -0.1440448076140784,
          -0.1318823264884242,
          -0.0007568649757330383,
          0.23076425222129304,
          0.5694388781050728,
          0.9992118718809796,
          1.4695199799378023,
          1.9656996257834072,
          2.461659857376012,
          2.931682038924224,
          3.352646809116946,
          3.70527840508311,
          3.9750358457869934,
          4.152613396583457,
          4.2340459828464825,
          4.22044845898397
         ]
        },
        {
         "fill": "toself",
         "fillcolor": "rgba(189,195,199,0.5)",
         "hoverinfo": "skip",
         "line": {
          "color": "rgba(200,200,200,0)"
         },
         "name": "mean plus/minus 2*standard deviation",
         "showlegend": true,
         "type": "scatter",
         "visible": true,
         "x": [
          -1,
          -0.9,
          -0.8,
          -0.7000000000000001,
          -0.6000000000000001,
          -0.5000000000000001,
          -0.40000000000000013,
          -0.30000000000000016,
          -0.20000000000000018,
          -0.1000000000000002,
          -2.220446049250313e-16,
          0.09999999999999964,
          0.19999999999999973,
          0.2999999999999998,
          0.3999999999999997,
          0.49999999999999956,
          0.5999999999999996,
          0.6999999999999997,
          0.7999999999999996,
          0.8999999999999995,
          0.9999999999999996,
          1.0999999999999996,
          1.1999999999999993,
          1.2999999999999994,
          1.3999999999999995,
          1.4999999999999996,
          1.5999999999999996,
          1.6999999999999993,
          1.7999999999999994,
          1.8999999999999995,
          1.9999999999999991,
          2.099999999999999,
          2.1999999999999993,
          2.2999999999999994,
          2.3999999999999995,
          2.499999999999999,
          2.599999999999999,
          2.6999999999999993,
          2.799999999999999,
          2.899999999999999,
          2.999999999999999,
          3.0999999999999988,
          3.1999999999999993,
          3.299999999999999,
          3.3999999999999986,
          3.499999999999999,
          3.5999999999999988,
          3.6999999999999993,
          3.799999999999999,
          3.8999999999999986,
          3.999999999999999,
          4.099999999999999,
          4.199999999999999,
          4.299999999999999,
          4.399999999999999,
          4.499999999999999,
          4.599999999999999,
          4.699999999999998,
          4.799999999999999,
          4.899999999999999,
          4.999999999999998,
          5.099999999999999,
          5.199999999999998,
          5.299999999999999,
          5.399999999999999,
          5.499999999999998,
          5.599999999999999,
          5.699999999999998,
          5.799999999999999,
          5.899999999999999,
          5.999999999999998,
          6.099999999999999,
          6.199999999999998,
          6.299999999999998,
          6.399999999999999,
          6.499999999999998,
          6.599999999999998,
          6.699999999999998,
          6.799999999999998,
          6.899999999999999,
          6.899999999999999,
          6.799999999999998,
          6.699999999999998,
          6.599999999999998,
          6.499999999999998,
          6.399999999999999,
          6.299999999999998,
          6.199999999999998,
          6.099999999999999,
          5.999999999999998,
          5.899999999999999,
          5.799999999999999,
          5.699999999999998,
          5.599999999999999,
          5.499999999999998,
          5.399999999999999,
          5.299999999999999,
          5.199999999999998,
          5.099999999999999,
          4.999999999999998,
          4.899999999999999,
          4.799999999999999,
          4.699999999999998,
          4.599999999999999,
          4.499999999999999,
          4.399999999999999,
          4.299999999999999,
          4.199999999999999,
          4.099999999999999,
          3.999999999999999,
          3.8999999999999986,
          3.799999999999999,
          3.6999999999999993,
          3.5999999999999988,
          3.499999999999999,
          3.3999999999999986,
          3.299999999999999,
          3.1999999999999993,
          3.0999999999999988,
          2.999999999999999,
          2.899999999999999,
          2.799999999999999,
          2.6999999999999993,
          2.599999999999999,
          2.499999999999999,
          2.3999999999999995,
          2.2999999999999994,
          2.1999999999999993,
          2.099999999999999,
          1.9999999999999991,
          1.8999999999999995,
          1.7999999999999994,
          1.6999999999999993,
          1.5999999999999996,
          1.4999999999999996,
          1.3999999999999995,
          1.2999999999999994,
          1.1999999999999993,
          1.0999999999999996,
          0.9999999999999996,
          0.8999999999999995,
          0.7999999999999996,
          0.6999999999999997,
          0.5999999999999996,
          0.49999999999999956,
          0.3999999999999997,
          0.2999999999999998,
          0.19999999999999973,
          0.09999999999999964,
          -2.220446049250313e-16,
          -0.1000000000000002,
          -0.20000000000000018,
          -0.30000000000000016,
          -0.40000000000000013,
          -0.5000000000000001,
          -0.6000000000000001,
          -0.7000000000000001,
          -0.8,
          -0.9,
          -1
         ],
         "y": [
          5.783146541075554,
          5.582374377829371,
          5.284646190887093,
          4.894938053428121,
          4.42350094438421,
          3.8857096571815157,
          3.301523256598597,
          2.6945643165541857,
          2.0908602377582293,
          1.517330263174759,
          1.001535656702528,
          0.5902128449577755,
          0.24958260584190375,
          0.0015669165118971178,
          -0.10337675759876412,
          -0.08516048377913008,
          0.0484063690029846,
          0.28433756309965375,
          0.6040120892563963,
          0.9844799663471546,
          1.4015430613892228,
          1.9367573666527762,
          2.490326054429434,
          3.032545358402264,
          3.536520484634954,
          3.978167524663147,
          4.337422640319515,
          4.599108012808883,
          4.753418954944312,
          4.796033485096242,
          4.727876380938753,
          4.554593903961271,
          4.285811516259264,
          3.934254411693818,
          3.5148099605933525,
          3.043603465317519,
          2.5371457706847194,
          2.01159538239661,
          1.4821609315376352,
          0.9626539893205757,
          0.4651894745232105,
          0.001549581619488965,
          -0.10449839981743742,
          -0.17662556065646356,
          -0.22229365403610962,
          -0.2482282877787909,
          -0.26146070643317654,
          -0.26888000973482873,
          -0.27684561170873045,
          -0.29087473626958127,
          -0.3154131487997255,
          -0.35369189572969917,
          -0.4076680498767181,
          -0.4780433801788806,
          -0.5643515234368995,
          -0.6651016132922822,
          -0.7779638164594965,
          -0.8984506391451587,
          -0.6685621055926879,
          -0.43202450586690266,
          -0.19517344251960567,
          0.03764970192299344,
          0.2626482613239993,
          0.4766332123473582,
          0.6770637758308995,
          0.862062890320642,
          1.0304069568445287,
          1.1814908988228283,
          1.3152711467913483,
          1.432190556652296,
          1.5330903821249258,
          1.6191151395719068,
          1.6916164453255509,
          1.7520616284448716,
          1.8019521323998136,
          1.8427554871938547,
          1.8758530963891504,
          1.9025044363103738,
          1.923826729666368,
          1.9407879372312793,
          -2.0420621828743375,
          -2.0497998643359767,
          -2.0577257875955435,
          -2.065330946154322,
          -2.071918033705485,
          -2.076588704337333,
          -2.078244610085283,
          -2.0756057599841653,
          -2.0672485605447095,
          -2.0516642404501164,
          -2.027336413969502,
          -1.99283451476907,
          -1.9469179452267644,
          -1.8886442134658017,
          -1.8174732048802684,
          -1.7333591489090536,
          -1.6368218514221768,
          -1.5289893926170879,
          -1.4116057324104876,
          -1.2869984825011997,
          -1.1580044637099007,
          -1.0278540649532326,
          -0.9015490255694575,
          -1.12117008420677,
          -1.3266583432672852,
          -1.5109461673310491,
          -1.668497473498775,
          -1.7938984522053079,
          -1.8819799581343917,
          -1.927939748226136,
          -1.927464683589986,
          -1.8768548456741128,
          -1.7731522513549365,
          -1.6142769161913937,
          -1.3991722972417593,
          -1.1279605419281988,
          -0.8021054856085426,
          -0.4245787043404276,
          -0.001548804794490193,
          0.14150418718129681,
          0.32285130346796453,
          0.5446192888647745,
          0.8048118784878231,
          1.0986143691910928,
          1.4183277113731645,
          1.7534910747590176,
          2.0912131524285122,
          2.416718493374374,
          2.7140988970885305,
          2.9672416311951557,
          3.1608872893928246,
          3.2817522778762207,
          3.319636249330286,
          3.268425380314773,
          3.1269000674979712,
          2.8992617363258093,
          2.5953085394351145,
          2.2302131505450618,
          1.8238838285741483,
          1.398444676279253,
          0.9079101140802439,
          0.48628075934676,
          0.15702976792842382,
          -0.06308816089464307,
          -0.16367291555906116,
          -0.14138418278497755,
          -0.0015314588049430903,
          0.2244914676810895,
          0.5625142224875053,
          0.9984372769404636,
          1.4535832188588167,
          1.9239794217917998,
          2.384025037649954,
          2.8084016330327666,
          3.1749591930954226,
          3.465870891982744,
          3.668401776573284,
          3.7752691318155787,
          3.7846031845188524,
          3.6995490982867762
         ]
        },
        {
         "fill": "toself",
         "fillcolor": "rgba(189,195,199,0.5)",
         "hoverinfo": "skip",
         "line": {
          "color": "rgba(200,200,200,0)"
         },
         "name": "mean plus/minus 3*standard deviation",
         "showlegend": true,
         "type": "scatter",
         "visible": true,
         "x": [
          -1,
          -0.9,
          -0.8,
          -0.7000000000000001,
          -0.6000000000000001,
          -0.5000000000000001,
          -0.40000000000000013,
          -0.30000000000000016,
          -0.20000000000000018,
          -0.1000000000000002,
          -2.220446049250313e-16,
          0.09999999999999964,
          0.19999999999999973,
          0.2999999999999998,
          0.3999999999999997,
          0.49999999999999956,
          0.5999999999999996,
          0.6999999999999997,
          0.7999999999999996,
          0.8999999999999995,
          0.9999999999999996,
          1.0999999999999996,
          1.1999999999999993,
          1.2999999999999994,
          1.3999999999999995,
          1.4999999999999996,
          1.5999999999999996,
          1.6999999999999993,
          1.7999999999999994,
          1.8999999999999995,
          1.9999999999999991,
          2.099999999999999,
          2.1999999999999993,
          2.2999999999999994,
          2.3999999999999995,
          2.499999999999999,
          2.599999999999999,
          2.6999999999999993,
          2.799999999999999,
          2.899999999999999,
          2.999999999999999,
          3.0999999999999988,
          3.1999999999999993,
          3.299999999999999,
          3.3999999999999986,
          3.499999999999999,
          3.5999999999999988,
          3.6999999999999993,
          3.799999999999999,
          3.8999999999999986,
          3.999999999999999,
          4.099999999999999,
          4.199999999999999,
          4.299999999999999,
          4.399999999999999,
          4.499999999999999,
          4.599999999999999,
          4.699999999999998,
          4.799999999999999,
          4.899999999999999,
          4.999999999999998,
          5.099999999999999,
          5.199999999999998,
          5.299999999999999,
          5.399999999999999,
          5.499999999999998,
          5.599999999999999,
          5.699999999999998,
          5.799999999999999,
          5.899999999999999,
          5.999999999999998,
          6.099999999999999,
          6.199999999999998,
          6.299999999999998,
          6.399999999999999,
          6.499999999999998,
          6.599999999999998,
          6.699999999999998,
          6.799999999999998,
          6.899999999999999,
          6.899999999999999,
          6.799999999999998,
          6.699999999999998,
          6.599999999999998,
          6.499999999999998,
          6.399999999999999,
          6.299999999999998,
          6.199999999999998,
          6.099999999999999,
          5.999999999999998,
          5.899999999999999,
          5.799999999999999,
          5.699999999999998,
          5.599999999999999,
          5.499999999999998,
          5.399999999999999,
          5.299999999999999,
          5.199999999999998,
          5.099999999999999,
          4.999999999999998,
          4.899999999999999,
          4.799999999999999,
          4.699999999999998,
          4.599999999999999,
          4.499999999999999,
          4.399999999999999,
          4.299999999999999,
          4.199999999999999,
          4.099999999999999,
          3.999999999999999,
          3.8999999999999986,
          3.799999999999999,
          3.6999999999999993,
          3.5999999999999988,
          3.499999999999999,
          3.3999999999999986,
          3.299999999999999,
          3.1999999999999993,
          3.0999999999999988,
          2.999999999999999,
          2.899999999999999,
          2.799999999999999,
          2.6999999999999993,
          2.599999999999999,
          2.499999999999999,
          2.3999999999999995,
          2.2999999999999994,
          2.1999999999999993,
          2.099999999999999,
          1.9999999999999991,
          1.8999999999999995,
          1.7999999999999994,
          1.6999999999999993,
          1.5999999999999996,
          1.4999999999999996,
          1.3999999999999995,
          1.2999999999999994,
          1.1999999999999993,
          1.0999999999999996,
          0.9999999999999996,
          0.8999999999999995,
          0.7999999999999996,
          0.6999999999999997,
          0.5999999999999996,
          0.49999999999999956,
          0.3999999999999997,
          0.2999999999999998,
          0.19999999999999973,
          0.09999999999999964,
          -2.220446049250313e-16,
          -0.1000000000000002,
          -0.20000000000000018,
          -0.30000000000000016,
          -0.40000000000000013,
          -0.5000000000000001,
          -0.6000000000000001,
          -0.7000000000000001,
          -0.8,
          -0.9,
          -1
         ],
         "y": [
          6.304045901772748,
          6.031817176157,
          5.661990455654971,
          5.2015721226418306,
          4.662908457484575,
          4.063397273203039,
          3.4248036624900546,
          2.7721991362802436,
          2.1325804417498366,
          1.5332670242537443,
          1.002310251643044,
          0.5971375005753431,
          0.2558553903821073,
          0.00234151034110717,
          -0.09387490130221077,
          -0.06553237583414731,
          0.07628000147739153,
          0.3161645118924612,
          0.6334449217338053,
          1.0036224294138822,
          1.4023176576667153,
          1.964975751172433,
          2.5553542804005267,
          3.1418545631440518,
          3.6958351717122397,
          4.190984388954441,
          4.6046719553207005,
          4.918975953678533,
          5.121335624211334,
          5.204820034022097,
          5.168035068374652,
          5.014717655679456,
          4.753084771980485,
          4.395014726510144,
          3.9551396820519362,
          3.4499224038036074,
          2.896778621058126,
          2.313291258373807,
          1.7165463422058505,
          1.1226046607837286,
          0.546110796358689,
          0.002324178222983755,
          -0.024478323686689868,
          -0.020255579418443803,
          0.004123067936912639,
          0.03950771458695124,
          0.07674334600637778,
          0.10718805067019832,
          0.1231566967826152,
          0.11827275056051989,
          0.08771850105687706,
          0.02838011987147393,
          -0.06111044929457066,
          -0.180429856848907,
          -0.3277028624633622,
          -0.49971243079853145,
          -0.6921622495226781,
          -0.897676042539084,
          -0.5787391157525517,
          -0.2505295164061532,
          0.07778281747579285,
          0.3999635605063637,
          0.710557674809271,
          1.0049969782897419,
          1.2796695070158879,
          1.5319469141208695,
          1.7601697494221114,
          1.9635931098352264,
          2.1422975621814526,
          2.2970722993077457,
          2.429279037768686,
          2.540706064601061,
          2.63342199665298,
          2.7096381880774105,
          2.7715873415841004,
          2.8214238674186896,
          2.8611491070250183,
          2.892561992286853,
          2.917233378166954,
          2.9365004672576838,
          -3.0377747129007417,
          -3.043206512836563,
          -3.0477833435720227,
          -3.0506269567901896,
          -3.05058641393032,
          -3.04622391352162,
          -3.0358211697178215,
          -3.0174113113115943,
          -2.988839485573864,
          -2.9478528960938766,
          -2.892218156624951,
          -2.819860930159175,
          -2.7290201562391623,
          -2.618407006043384,
          -2.487357228680496,
          -2.335964880094042,
          -2.1651856173645605,
          -1.9768988061023596,
          -1.773919590993858,
          -1.5599547424965983,
          -1.3394994531706501,
          -1.117677054793369,
          -0.9023236221755322,
          -1.2069716511435882,
          -1.492047525761036,
          -1.7475948283045863,
          -1.9661109968287485,
          -2.140456052787455,
          -2.264051973735565,
          -2.3310713980827384,
          -2.3366121704200875,
          -2.2768571541654588,
          -2.1492203117599633,
          -1.9524809686309479,
          -1.6869082996075013,
          -1.354377263901221,
          -0.9584754668465624,
          -0.5045987804711751,
          -0.0023234013979849823,
          0.06058286534581839,
          0.16290063200481175,
          0.31023387819655934,
          0.5031160025106264,
          0.7389815188176863,
          1.0120087728870761,
          1.3131613533004338,
          1.6304528376121854,
          1.949445237653152,
          2.2539751453703456,
          2.5270829437592566,
          2.75210074046697,
          2.9138356086091983,
          2.9997683084606366,
          3.0011760653135875,
          2.914083203206677,
          2.7399470492485234,
          2.485999334693327,
          2.165184924573969,
          1.7956654440544915,
          1.3976700800017605,
          0.8887676510135162,
          0.45684792686935094,
          0.12520281913561637,
          -0.09096179336905,
          -0.18330102350404393,
          -0.15088603908153092,
          -0.0023060526341531426,
          0.21821868314088594,
          0.5555895668699377,
          0.9976626819999475,
          1.4376464577798314,
          1.8822592178001925,
          2.306390217923896,
          2.685121227141309,
          2.9972715770738994,
          3.2264633788823773,
          3.361767707359575,
          3.3979248670477005,
          3.335160386191223,
          3.1786497375895815
         ]
        },
        {
         "line": {
          "color": "blue",
          "width": 2
         },
         "name": "Predicted function",
         "showlegend": true,
         "type": "scatter",
         "visible": true,
         "x": [
          -1,
          -0.9,
          -0.8,
          -0.7000000000000001,
          -0.6000000000000001,
          -0.5000000000000001,
          -0.40000000000000013,
          -0.30000000000000016,
          -0.20000000000000018,
          -0.1000000000000002,
          -2.220446049250313e-16,
          0.09999999999999964,
          0.19999999999999973,
          0.2999999999999998,
          0.3999999999999997,
          0.49999999999999956,
          0.5999999999999996,
          0.6999999999999997,
          0.7999999999999996,
          0.8999999999999995,
          0.9999999999999996,
          1.0999999999999996,
          1.1999999999999993,
          1.2999999999999994,
          1.3999999999999995,
          1.4999999999999996,
          1.5999999999999996,
          1.6999999999999993,
          1.7999999999999994,
          1.8999999999999995,
          1.9999999999999991,
          2.099999999999999,
          2.1999999999999993,
          2.2999999999999994,
          2.3999999999999995,
          2.499999999999999,
          2.599999999999999,
          2.6999999999999993,
          2.799999999999999,
          2.899999999999999,
          2.999999999999999,
          3.0999999999999988,
          3.1999999999999993,
          3.299999999999999,
          3.3999999999999986,
          3.499999999999999,
          3.5999999999999988,
          3.6999999999999993,
          3.799999999999999,
          3.8999999999999986,
          3.999999999999999,
          4.099999999999999,
          4.199999999999999,
          4.299999999999999,
          4.399999999999999,
          4.499999999999999,
          4.599999999999999,
          4.699999999999998,
          4.799999999999999,
          4.899999999999999,
          4.999999999999998,
          5.099999999999999,
          5.199999999999998,
          5.299999999999999,
          5.399999999999999,
          5.499999999999998,
          5.599999999999999,
          5.699999999999998,
          5.799999999999999,
          5.899999999999999,
          5.999999999999998,
          6.099999999999999,
          6.199999999999998,
          6.299999999999998,
          6.399999999999999,
          6.499999999999998,
          6.599999999999998,
          6.699999999999998,
          6.799999999999998,
          6.899999999999999
         ],
         "y": [
          4.741347819681165,
          4.683488781174112,
          4.529957661351336,
          4.281669915000703,
          3.9446859181834766,
          3.530334425138469,
          3.054962444815682,
          2.53929467710207,
          2.0074198297750145,
          1.4854567410167878,
          0.9999864668214957,
          0.5763635337226404,
          0.23703703676149662,
          0.000017728853477013693,
          -0.12238047019187084,
          -0.12441669966909562,
          -0.0073408959458292344,
          0.22068366551403878,
          0.5451464243015781,
          0.9461950402136993,
          1.399993868834238,
          1.8803205976134623,
          2.360269602487248,
          2.8139269489186893,
          3.2178911104803816,
          3.552533796080559,
          3.802924010317144,
          3.9593721310695846,
          4.017585616410266,
          3.9784603872445334,
          3.8475590060669544,
          3.6343464005249007,
          3.3512650048168187,
          3.012733782061165,
          2.634150517676185,
          2.2309655883453416,
          1.817880069937906,
          1.4082036304422165,
          1.0133901102012048,
          0.6427526463942701,
          0.30334683085225367,
          3.884124993861001e-7,
          -0.2645385520789325,
          -0.4893655231325031,
          -0.6751270979821542,
          -0.8237002925102751,
          -0.9378688113122851,
          -1.0210161305448826,
          -1.0768502286914217,
          -1.1091697099297837,
          -1.1216764485129307,
          -1.1178359269320455,
          -1.100783251041013,
          -1.0732704268388278,
          -1.0376488453839743,
          -0.9958799782797837,
          -0.9495669503331332,
          -0.8999998323573081,
          -0.8482080852729603,
          -0.7950144847884016,
          -0.7410859625104027,
          -0.6869780152437471,
          -0.6331705656465443,
          -0.5800943195374093,
          -0.5281476865390771,
          -0.4777051572798132,
          -0.4291186283106364,
          -0.382713523201968,
          -0.33878168398886094,
          -0.29757292865860274,
          -0.2592869291625952,
          -0.22406671048640145,
          -0.1919946573293071,
          -0.1630914908202056,
          -0.13731828596875978,
          -0.1145812732558152,
          -0.09473892488258569,
          -0.07761067564258474,
          -0.06298656733480432,
          -0.050637122821529115
         ]
        },
        {
         "marker": {
          "color": "red",
          "size": 8
         },
         "mode": "markers",
         "name": "Observed points",
         "showlegend": true,
         "type": "scatter",
         "visible": true,
         "x": [
          0,
          0.3,
          1,
          3.1,
          4.7
         ],
         "y": [
          1,
          0,
          1.4,
          0,
          -0.9
         ]
        }
       ],
       "layout": {
        "autosize": false,
        "height": 600,
        "legend": {
         "x": 0.95,
         "xanchor": "right",
         "y": 0.9,
         "yanchor": "top"
        },
        "plot_bgcolor": "rgba(0,0,0,0)",
        "template": {
         "data": {
          "bar": [
           {
            "error_x": {
             "color": "#2a3f5f"
            },
            "error_y": {
             "color": "#2a3f5f"
            },
            "marker": {
             "line": {
              "color": "#E5ECF6",
              "width": 0.5
             },
             "pattern": {
              "fillmode": "overlay",
              "size": 10,
              "solidity": 0.2
             }
            },
            "type": "bar"
           }
          ],
          "barpolar": [
           {
            "marker": {
             "line": {
              "color": "#E5ECF6",
              "width": 0.5
             },
             "pattern": {
              "fillmode": "overlay",
              "size": 10,
              "solidity": 0.2
             }
            },
            "type": "barpolar"
           }
          ],
          "carpet": [
           {
            "aaxis": {
             "endlinecolor": "#2a3f5f",
             "gridcolor": "white",
             "linecolor": "white",
             "minorgridcolor": "white",
             "startlinecolor": "#2a3f5f"
            },
            "baxis": {
             "endlinecolor": "#2a3f5f",
             "gridcolor": "white",
             "linecolor": "white",
             "minorgridcolor": "white",
             "startlinecolor": "#2a3f5f"
            },
            "type": "carpet"
           }
          ],
          "choropleth": [
           {
            "colorbar": {
             "outlinewidth": 0,
             "ticks": ""
            },
            "type": "choropleth"
           }
          ],
          "contour": [
           {
            "colorbar": {
             "outlinewidth": 0,
             "ticks": ""
            },
            "colorscale": [
             [
              0,
              "#0d0887"
             ],
             [
              0.1111111111111111,
              "#46039f"
             ],
             [
              0.2222222222222222,
              "#7201a8"
             ],
             [
              0.3333333333333333,
              "#9c179e"
             ],
             [
              0.4444444444444444,
              "#bd3786"
             ],
             [
              0.5555555555555556,
              "#d8576b"
             ],
             [
              0.6666666666666666,
              "#ed7953"
             ],
             [
              0.7777777777777778,
              "#fb9f3a"
             ],
             [
              0.8888888888888888,
              "#fdca26"
             ],
             [
              1,
              "#f0f921"
             ]
            ],
            "type": "contour"
           }
          ],
          "contourcarpet": [
           {
            "colorbar": {
             "outlinewidth": 0,
             "ticks": ""
            },
            "type": "contourcarpet"
           }
          ],
          "heatmap": [
           {
            "colorbar": {
             "outlinewidth": 0,
             "ticks": ""
            },
            "colorscale": [
             [
              0,
              "#0d0887"
             ],
             [
              0.1111111111111111,
              "#46039f"
             ],
             [
              0.2222222222222222,
              "#7201a8"
             ],
             [
              0.3333333333333333,
              "#9c179e"
             ],
             [
              0.4444444444444444,
              "#bd3786"
             ],
             [
              0.5555555555555556,
              "#d8576b"
             ],
             [
              0.6666666666666666,
              "#ed7953"
             ],
             [
              0.7777777777777778,
              "#fb9f3a"
             ],
             [
              0.8888888888888888,
              "#fdca26"
             ],
             [
              1,
              "#f0f921"
             ]
            ],
            "type": "heatmap"
           }
          ],
          "heatmapgl": [
           {
            "colorbar": {
             "outlinewidth": 0,
             "ticks": ""
            },
            "colorscale": [
             [
              0,
              "#0d0887"
             ],
             [
              0.1111111111111111,
              "#46039f"
             ],
             [
              0.2222222222222222,
              "#7201a8"
             ],
             [
              0.3333333333333333,
              "#9c179e"
             ],
             [
              0.4444444444444444,
              "#bd3786"
             ],
             [
              0.5555555555555556,
              "#d8576b"
             ],
             [
              0.6666666666666666,
              "#ed7953"
             ],
             [
              0.7777777777777778,
              "#fb9f3a"
             ],
             [
              0.8888888888888888,
              "#fdca26"
             ],
             [
              1,
              "#f0f921"
             ]
            ],
            "type": "heatmapgl"
           }
          ],
          "histogram": [
           {
            "marker": {
             "pattern": {
              "fillmode": "overlay",
              "size": 10,
              "solidity": 0.2
             }
            },
            "type": "histogram"
           }
          ],
          "histogram2d": [
           {
            "colorbar": {
             "outlinewidth": 0,
             "ticks": ""
            },
            "colorscale": [
             [
              0,
              "#0d0887"
             ],
             [
              0.1111111111111111,
              "#46039f"
             ],
             [
              0.2222222222222222,
              "#7201a8"
             ],
             [
              0.3333333333333333,
              "#9c179e"
             ],
             [
              0.4444444444444444,
              "#bd3786"
             ],
             [
              0.5555555555555556,
              "#d8576b"
             ],
             [
              0.6666666666666666,
              "#ed7953"
             ],
             [
              0.7777777777777778,
              "#fb9f3a"
             ],
             [
              0.8888888888888888,
              "#fdca26"
             ],
             [
              1,
              "#f0f921"
             ]
            ],
            "type": "histogram2d"
           }
          ],
          "histogram2dcontour": [
           {
            "colorbar": {
             "outlinewidth": 0,
             "ticks": ""
            },
            "colorscale": [
             [
              0,
              "#0d0887"
             ],
             [
              0.1111111111111111,
              "#46039f"
             ],
             [
              0.2222222222222222,
              "#7201a8"
             ],
             [
              0.3333333333333333,
              "#9c179e"
             ],
             [
              0.4444444444444444,
              "#bd3786"
             ],
             [
              0.5555555555555556,
              "#d8576b"
             ],
             [
              0.6666666666666666,
              "#ed7953"
             ],
             [
              0.7777777777777778,
              "#fb9f3a"
             ],
             [
              0.8888888888888888,
              "#fdca26"
             ],
             [
              1,
              "#f0f921"
             ]
            ],
            "type": "histogram2dcontour"
           }
          ],
          "mesh3d": [
           {
            "colorbar": {
             "outlinewidth": 0,
             "ticks": ""
            },
            "type": "mesh3d"
           }
          ],
          "parcoords": [
           {
            "line": {
             "colorbar": {
              "outlinewidth": 0,
              "ticks": ""
             }
            },
            "type": "parcoords"
           }
          ],
          "pie": [
           {
            "automargin": true,
            "type": "pie"
           }
          ],
          "scatter": [
           {
            "fillpattern": {
             "fillmode": "overlay",
             "size": 10,
             "solidity": 0.2
            },
            "type": "scatter"
           }
          ],
          "scatter3d": [
           {
            "line": {
             "colorbar": {
              "outlinewidth": 0,
              "ticks": ""
             }
            },
            "marker": {
             "colorbar": {
              "outlinewidth": 0,
              "ticks": ""
             }
            },
            "type": "scatter3d"
           }
          ],
          "scattercarpet": [
           {
            "marker": {
             "colorbar": {
              "outlinewidth": 0,
              "ticks": ""
             }
            },
            "type": "scattercarpet"
           }
          ],
          "scattergeo": [
           {
            "marker": {
             "colorbar": {
              "outlinewidth": 0,
              "ticks": ""
             }
            },
            "type": "scattergeo"
           }
          ],
          "scattergl": [
           {
            "marker": {
             "colorbar": {
              "outlinewidth": 0,
              "ticks": ""
             }
            },
            "type": "scattergl"
           }
          ],
          "scattermapbox": [
           {
            "marker": {
             "colorbar": {
              "outlinewidth": 0,
              "ticks": ""
             }
            },
            "type": "scattermapbox"
           }
          ],
          "scatterpolar": [
           {
            "marker": {
             "colorbar": {
              "outlinewidth": 0,
              "ticks": ""
             }
            },
            "type": "scatterpolar"
           }
          ],
          "scatterpolargl": [
           {
            "marker": {
             "colorbar": {
              "outlinewidth": 0,
              "ticks": ""
             }
            },
            "type": "scatterpolargl"
           }
          ],
          "scatterternary": [
           {
            "marker": {
             "colorbar": {
              "outlinewidth": 0,
              "ticks": ""
             }
            },
            "type": "scatterternary"
           }
          ],
          "surface": [
           {
            "colorbar": {
             "outlinewidth": 0,
             "ticks": ""
            },
            "colorscale": [
             [
              0,
              "#0d0887"
             ],
             [
              0.1111111111111111,
              "#46039f"
             ],
             [
              0.2222222222222222,
              "#7201a8"
             ],
             [
              0.3333333333333333,
              "#9c179e"
             ],
             [
              0.4444444444444444,
              "#bd3786"
             ],
             [
              0.5555555555555556,
              "#d8576b"
             ],
             [
              0.6666666666666666,
              "#ed7953"
             ],
             [
              0.7777777777777778,
              "#fb9f3a"
             ],
             [
              0.8888888888888888,
              "#fdca26"
             ],
             [
              1,
              "#f0f921"
             ]
            ],
            "type": "surface"
           }
          ],
          "table": [
           {
            "cells": {
             "fill": {
              "color": "#EBF0F8"
             },
             "line": {
              "color": "white"
             }
            },
            "header": {
             "fill": {
              "color": "#C8D4E3"
             },
             "line": {
              "color": "white"
             }
            },
            "type": "table"
           }
          ]
         },
         "layout": {
          "annotationdefaults": {
           "arrowcolor": "#2a3f5f",
           "arrowhead": 0,
           "arrowwidth": 1
          },
          "autotypenumbers": "strict",
          "coloraxis": {
           "colorbar": {
            "outlinewidth": 0,
            "ticks": ""
           }
          },
          "colorscale": {
           "diverging": [
            [
             0,
             "#8e0152"
            ],
            [
             0.1,
             "#c51b7d"
            ],
            [
             0.2,
             "#de77ae"
            ],
            [
             0.3,
             "#f1b6da"
            ],
            [
             0.4,
             "#fde0ef"
            ],
            [
             0.5,
             "#f7f7f7"
            ],
            [
             0.6,
             "#e6f5d0"
            ],
            [
             0.7,
             "#b8e186"
            ],
            [
             0.8,
             "#7fbc41"
            ],
            [
             0.9,
             "#4d9221"
            ],
            [
             1,
             "#276419"
            ]
           ],
           "sequential": [
            [
             0,
             "#0d0887"
            ],
            [
             0.1111111111111111,
             "#46039f"
            ],
            [
             0.2222222222222222,
             "#7201a8"
            ],
            [
             0.3333333333333333,
             "#9c179e"
            ],
            [
             0.4444444444444444,
             "#bd3786"
            ],
            [
             0.5555555555555556,
             "#d8576b"
            ],
            [
             0.6666666666666666,
             "#ed7953"
            ],
            [
             0.7777777777777778,
             "#fb9f3a"
            ],
            [
             0.8888888888888888,
             "#fdca26"
            ],
            [
             1,
             "#f0f921"
            ]
           ],
           "sequentialminus": [
            [
             0,
             "#0d0887"
            ],
            [
             0.1111111111111111,
             "#46039f"
            ],
            [
             0.2222222222222222,
             "#7201a8"
            ],
            [
             0.3333333333333333,
             "#9c179e"
            ],
            [
             0.4444444444444444,
             "#bd3786"
            ],
            [
             0.5555555555555556,
             "#d8576b"
            ],
            [
             0.6666666666666666,
             "#ed7953"
            ],
            [
             0.7777777777777778,
             "#fb9f3a"
            ],
            [
             0.8888888888888888,
             "#fdca26"
            ],
            [
             1,
             "#f0f921"
            ]
           ]
          },
          "colorway": [
           "#636efa",
           "#EF553B",
           "#00cc96",
           "#ab63fa",
           "#FFA15A",
           "#19d3f3",
           "#FF6692",
           "#B6E880",
           "#FF97FF",
           "#FECB52"
          ],
          "font": {
           "color": "#2a3f5f"
          },
          "geo": {
           "bgcolor": "white",
           "lakecolor": "white",
           "landcolor": "#E5ECF6",
           "showlakes": true,
           "showland": true,
           "subunitcolor": "white"
          },
          "hoverlabel": {
           "align": "left"
          },
          "hovermode": "closest",
          "mapbox": {
           "style": "light"
          },
          "paper_bgcolor": "white",
          "plot_bgcolor": "#E5ECF6",
          "polar": {
           "angularaxis": {
            "gridcolor": "white",
            "linecolor": "white",
            "ticks": ""
           },
           "bgcolor": "#E5ECF6",
           "radialaxis": {
            "gridcolor": "white",
            "linecolor": "white",
            "ticks": ""
           }
          },
          "scene": {
           "xaxis": {
            "backgroundcolor": "#E5ECF6",
            "gridcolor": "white",
            "gridwidth": 2,
            "linecolor": "white",
            "showbackground": true,
            "ticks": "",
            "zerolinecolor": "white"
           },
           "yaxis": {
            "backgroundcolor": "#E5ECF6",
            "gridcolor": "white",
            "gridwidth": 2,
            "linecolor": "white",
            "showbackground": true,
            "ticks": "",
            "zerolinecolor": "white"
           },
           "zaxis": {
            "backgroundcolor": "#E5ECF6",
            "gridcolor": "white",
            "gridwidth": 2,
            "linecolor": "white",
            "showbackground": true,
            "ticks": "",
            "zerolinecolor": "white"
           }
          },
          "shapedefaults": {
           "line": {
            "color": "#2a3f5f"
           }
          },
          "ternary": {
           "aaxis": {
            "gridcolor": "white",
            "linecolor": "white",
            "ticks": ""
           },
           "baxis": {
            "gridcolor": "white",
            "linecolor": "white",
            "ticks": ""
           },
           "bgcolor": "#E5ECF6",
           "caxis": {
            "gridcolor": "white",
            "linecolor": "white",
            "ticks": ""
           }
          },
          "title": {
           "x": 0.05
          },
          "xaxis": {
           "automargin": true,
           "gridcolor": "white",
           "linecolor": "white",
           "ticks": "",
           "title": {
            "standoff": 15
           },
           "zerolinecolor": "white",
           "zerolinewidth": 2
          },
          "yaxis": {
           "automargin": true,
           "gridcolor": "white",
           "linecolor": "white",
           "ticks": "",
           "title": {
            "standoff": 15
           },
           "zerolinecolor": "white",
           "zerolinewidth": 2
          }
         }
        },
        "title": {
         "text": "GPR with length 1, sigma 0 and noise 0",
         "x": 0.5,
         "xanchor": "center"
        },
        "width": 800,
        "xaxis": {
         "linecolor": "black",
         "linewidth": 1,
         "showline": true,
         "title": {
          "text": "input values"
         }
        },
        "yaxis": {
         "linecolor": "black",
         "linewidth": 1,
         "showline": true,
         "title": {
          "text": "output values"
         }
        }
       }
      }
     },
     "metadata": {},
     "output_type": "display_data"
    }
   ],
   "source": [
    "model = GPR(x_values, y_values)\n",
    "data = plot_GPR(data_x=x_values, data_y=y_values, x=x, model=model)\n",
    "fig4 = go.Figure(data=data)\n",
    "fig4 = update_layout_of_graph(fig=fig4,\n",
    "                              title='GPR with length 1, sigma 0 and noise 0')\n",
    "\n",
    "fig4.show()"
   ]
  },
  {
   "cell_type": "markdown",
   "id": "b409d823",
   "metadata": {},
   "source": [
    "A cool feature of the GPR is that it is sort of a probability distribution over function - so we can literally 'draw' random functions!"
   ]
  },
  {
   "cell_type": "code",
   "execution_count": 18,
   "id": "045e7091",
   "metadata": {},
   "outputs": [
    {
     "data": {
      "application/vnd.jupyter.widget-view+json": {
       "model_id": "c3202ec76e7f4ffcb1abf827439bf274",
       "version_major": 2,
       "version_minor": 0
      },
      "text/plain": [
       "VBox(children=(FigureWidget({\n",
       "    'data': [{'marker': {'color': 'red', 'size': 8},\n",
       "              'mode': 'mark…"
      ]
     },
     "metadata": {},
     "output_type": "display_data"
    }
   ],
   "source": [
    "model = GPR(x_values, y_values)\n",
    "\n",
    "mean = model.predict(x)\n",
    "covariance_matrix = model._memory['covariance_matrix']\n",
    "\n",
    "fig1 = go.FigureWidget(data=[dot_scatter(x_dots=x_values, y_dots=y_values)])\n",
    "fig1 = update_layout_of_graph(\n",
    "    fig1,\n",
    "    title='Random drawings (i.e. random functions) of the Gaussian process')\n",
    "\n",
    "button = widgets.Button(description='Add random drawing')\n",
    "\n",
    "\n",
    "def update(_):\n",
    "    with fig1.batch_update():\n",
    "        fig1.add_trace(\n",
    "            line_scatter(x_lines=x,\n",
    "                         y_lines=np.random.multivariate_normal(\n",
    "                             mean, covariance_matrix),\n",
    "                         name_line='random function',\n",
    "                         showlegend=False))\n",
    "        fig1.add_trace(\n",
    "            dot_scatter(x_dots=x_values, y_dots=y_values, showlegend=False))\n",
    "\n",
    "\n",
    "button.on_click(update)\n",
    "widgets.VBox([fig1, button])"
   ]
  },
  {
   "cell_type": "markdown",
   "id": "876ee73f",
   "metadata": {},
   "source": [
    "Doing predictions with a GPR is usually done by taking the mean function as our best guess. Since GPR's are a probabilistic model, we get in addition some sort of certainty of our prediction. (But be careful how to interpret this uncertainty area! Believing that every 'new' point must be in the uncertainty area is simply wrong!)"
   ]
  },
  {
   "cell_type": "code",
   "execution_count": 18,
   "id": "36354bda",
   "metadata": {},
   "outputs": [
    {
     "data": {
      "application/vnd.jupyter.widget-view+json": {
       "model_id": "fca696f5f1e84ee58a216676fd433654",
       "version_major": 2,
       "version_minor": 0
      },
      "text/plain": [
       "VBox(children=(FigureWidget({\n",
       "    'data': [{'fill': 'toself',\n",
       "              'fillcolor': 'rgba(189,195,199,0.5…"
      ]
     },
     "metadata": {},
     "output_type": "display_data"
    }
   ],
   "source": [
    "model = GPR(x_values[:1], y_values[:1])\n",
    "\n",
    "data = plot_GPR(data_x=x_values[:1], data_y=y_values[:1], x=x, model=model)\n",
    "\n",
    "fig2 = go.FigureWidget(data=data)\n",
    "fig2 = update_layout_of_graph(fig2, title='Prediction (i.e. mean) of GPR')\n",
    "\n",
    "button = widgets.Button(description='Add data point')\n",
    "\n",
    "number_of_points = 1\n",
    "\n",
    "# we update the y values of our 4 scatter plots \n",
    "def update(_):\n",
    "    with fig2.batch_update():\n",
    "        global number_of_points\n",
    "        if number_of_points < len(x_values):\n",
    "            number_of_points += 1\n",
    "            model = GPR(x_values[:number_of_points],\n",
    "                        y_values[:number_of_points])\n",
    "            mean = model.predict(x)\n",
    "            fig2.data[3].y = mean\n",
    "            for i in range(1, 4):\n",
    "                y_upper = mean + i * np.sqrt(model._memory['variance'])\n",
    "                y_lower = mean - i * np.sqrt(model._memory['variance'])\n",
    "                fig2.data[i - 1].y = np.concatenate((y_upper, y_lower[::-1]))\n",
    "\n",
    "            fig2.data[4].x = x_values[:number_of_points]\n",
    "            fig2.data[4].y = y_values[:number_of_points]\n",
    "\n",
    "\n",
    "button.on_click(update)\n",
    "widgets.VBox([fig2, button])"
   ]
  },
  {
   "cell_type": "markdown",
   "id": "ce23fd04",
   "metadata": {},
   "source": [
    "You can test the GPR with different data. Try using multi-dimensional input!"
   ]
  },
  {
   "cell_type": "markdown",
   "id": "1d17146a",
   "metadata": {},
   "source": [
    "### Visualization of effect of free parameters"
   ]
  },
  {
   "cell_type": "markdown",
   "id": "e7e03650",
   "metadata": {},
   "source": [
    "Awesome! Now that we can make predictions with our GPR, lets visualize how the GPR changes if we change the free parameters, i.e. length-scale, variance and white noise."
   ]
  },
  {
   "cell_type": "code",
   "execution_count": 19,
   "id": "cd6e6019",
   "metadata": {},
   "outputs": [
    {
     "data": {
      "application/vnd.jupyter.widget-view+json": {
       "model_id": "2a5e2ce28c30451182065cbfb3813ff9",
       "version_major": 2,
       "version_minor": 0
      },
      "text/plain": [
       "interactive(children=(FloatSlider(value=1.0, description='sigma', max=3.0, min=0.01, step=0.01), FloatSlider(v…"
      ]
     },
     "metadata": {},
     "output_type": "display_data"
    },
    {
     "data": {
      "application/vnd.jupyter.widget-view+json": {
       "model_id": "690de80574d0455c9ac946a70bf04616",
       "version_major": 2,
       "version_minor": 0
      },
      "text/plain": [
       "FigureWidget({\n",
       "    'data': [{'fill': 'toself',\n",
       "              'fillcolor': 'rgba(189,195,199,0.5)',\n",
       "           …"
      ]
     },
     "metadata": {},
     "output_type": "display_data"
    }
   ],
   "source": [
    "model = GPR(x_values,\n",
    "            y_values,\n",
    "            covariance_function=SquaredExponentialKernel(length=0.5),\n",
    "            white_noise_sigma=0.1)\n",
    "\n",
    "data = plot_GPR(x_values, y_values, model=model, x=x)\n",
    "\n",
    "fig3 = go.FigureWidget(data=data)\n",
    "\n",
    "\n",
    "# we update the y values of our 4 scatter plots \n",
    "@interact(sigma=(0.01, 3, 0.01), length=(0.01, 3, 0.01), noise=(0, 3, 0.1))\n",
    "def update(sigma=1, length=0.5, noise=0.1):\n",
    "    with fig3.batch_update():\n",
    "        model = GPR(x_values,\n",
    "                    y_values,\n",
    "                    covariance_function=SquaredExponentialKernel(\n",
    "                        sigma_f=sigma, length=length),\n",
    "                    white_noise_sigma=noise)\n",
    "\n",
    "        mean = model.predict(x)\n",
    "        y_upper = mean + np.sqrt(model._memory['variance'])\n",
    "        y_lower = mean - np.sqrt(model._memory['variance'])\n",
    "\n",
    "        \n",
    "        for i in range(1, 4):\n",
    "            y_upper = mean + i * np.sqrt(model._memory['variance'])\n",
    "            y_lower = mean - i * np.sqrt(model._memory['variance'])\n",
    "            fig3.data[i-1].y = np.concatenate((y_upper, y_lower[::-1]))\n",
    "        \n",
    "        fig3.data[3].y = mean\n",
    "\n",
    "\n",
    "fig3 = update_layout_of_graph(\n",
    "    fig3, title=\"GPR with varying length, sigma and white noise\")\n",
    "fig3"
   ]
  },
  {
   "cell_type": "markdown",
   "id": "188b1f24",
   "metadata": {},
   "source": [
    "Pretty impressive how many function 'shapes' we can generate with a GPR!\n",
    "\n",
    "But now we naturally raise the question:\n",
    "\n",
    "_What are the best parameters for our GPR and problem?_"
   ]
  }
 ],
 "metadata": {
  "kernelspec": {
   "display_name": "Python 3 (ipykernel)",
   "language": "python",
   "name": "python3"
  },
  "language_info": {
   "codemirror_mode": {
    "name": "ipython",
    "version": 3
   },
   "file_extension": ".py",
   "mimetype": "text/x-python",
   "name": "python",
   "nbconvert_exporter": "python",
   "pygments_lexer": "ipython3",
   "version": "3.8.10"
  },
  "toc": {
   "base_numbering": 1,
   "nav_menu": {},
   "number_sections": true,
   "sideBar": true,
   "skip_h1_title": false,
   "title_cell": "Table of Contents",
   "title_sidebar": "Contents",
   "toc_cell": false,
   "toc_position": {},
   "toc_section_display": true,
   "toc_window_display": false
  },
  "varInspector": {
   "cols": {
    "lenName": 16,
    "lenType": 16,
    "lenVar": 40
   },
   "kernels_config": {
    "python": {
     "delete_cmd_postfix": "",
     "delete_cmd_prefix": "del ",
     "library": "var_list.py",
     "varRefreshCmd": "print(var_dic_list())"
    },
    "r": {
     "delete_cmd_postfix": ") ",
     "delete_cmd_prefix": "rm(",
     "library": "var_list.r",
     "varRefreshCmd": "cat(var_dic_list()) "
    }
   },
   "types_to_exclude": [
    "module",
    "function",
    "builtin_function_or_method",
    "instance",
    "_Feature"
   ],
   "window_display": false
  }
 },
 "nbformat": 4,
 "nbformat_minor": 5
}
