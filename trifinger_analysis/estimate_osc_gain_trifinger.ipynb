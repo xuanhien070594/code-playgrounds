{
 "cells": [
  {
   "cell_type": "code",
   "id": "initial_id",
   "metadata": {
    "collapsed": true,
    "ExecuteTime": {
     "end_time": "2024-08-12T03:07:55.700415Z",
     "start_time": "2024-08-12T03:07:55.696128Z"
    }
   },
   "source": [
    "import numpy as np\n",
    "import matplotlib.pyplot as plt\n",
    "from pydrake.multibody.plant import MultibodyPlant\n",
    "from pydrake.multibody.parsing import Parser\n",
    "from pydrake.math import RigidTransform\n",
    "from pydrake.multibody.tree import JacobianWrtVariable\n",
    "plt.rcParams[\"figure.figsize\"] = (13, 7)"
   ],
   "outputs": [],
   "execution_count": 10
  },
  {
   "metadata": {
    "ExecuteTime": {
     "end_time": "2024-08-12T02:58:05.770598Z",
     "start_time": "2024-08-12T02:58:05.761676Z"
    }
   },
   "cell_type": "code",
   "source": [
    "model_url = \"/home/xuanhien/git/dairlib/examples/trifinger/robot_properties_fingers/urdf/edu/trifingeredu.urdf\"\n",
    "plant = MultibodyPlant(time_step=0)\n",
    "(trifingeredu, ) = Parser(plant).AddModels(model_url)\n",
    "plant.WeldFrames(plant.world_frame(), plant.GetFrameByName(\"base_link\"), RigidTransform.Identity())\n",
    "plant.Finalize()\n",
    "plant_context = plant.CreateDefaultContext()"
   ],
   "id": "da12f3fe14f6a654",
   "outputs": [],
   "execution_count": 2
  },
  {
   "metadata": {
    "ExecuteTime": {
     "end_time": "2024-08-12T03:10:11.564962Z",
     "start_time": "2024-08-12T03:10:11.552067Z"
    }
   },
   "cell_type": "code",
   "source": [
    "position = np.zeros(9)\n",
    "position[:3] = np.array([0, 0.8, -1.57])\n",
    "vel = np.zeros(9)\n",
    "plant.SetPositions(plant_context, position)\n",
    "plant.SetVelocities(plant_context, vel)\n",
    "\n",
    "# compute accel, coriolis, and gravity terms.\n",
    "gravity_torque = plant.CalcGravityGeneralizedForces(plant_context)[:3]\n",
    "bias_torque = plant.CalcBiasTerm(plant_context)[:3]\n",
    "mass_matrix = plant.CalcMassMatrix(plant_context)[:3, :3]"
   ],
   "id": "e0969ab478a90336",
   "outputs": [],
   "execution_count": 16
  },
  {
   "metadata": {},
   "cell_type": "markdown",
   "source": [
    "## Operational Space Controller formulation\n",
    "\n",
    "The commanded kinematic target acceleration is $$\\ddot{y}_{cmd} = \\ddot{y}_{des} + k_p(y_{des} - y) + k_d (\\dot{y}_{des} - \\dot{y})$$\n",
    "\n",
    "We can also compute the current acceleration $$\\ddot{y} = J \\ddot{q} + \\dot{J}\\dot{q} = J M^{-1} (\\tau_g + \\tau - \\tau_f - C(q, \\dot{q})\\dot{q}) + \\dot{J}\\dot{q}$$\n",
    "\n",
    "OSC forms an optimization problem to track $\\ddot{y}_{cmd}$ by minimizing an objective $(\\ddot{y}_{cmd} - \\ddot{y})^T W (\\ddot{y}_{cmd} - \\ddot{y})$, subjecting to some constraints"
   ],
   "id": "e8e9e1c8ef4a3afc"
  },
  {
   "metadata": {
    "ExecuteTime": {
     "end_time": "2024-08-12T03:10:13.485454Z",
     "start_time": "2024-08-12T03:10:13.475331Z"
    }
   },
   "cell_type": "code",
   "source": [
    "fingertip_0 = plant.GetBodyByName(\"finger_tip_link_0\")\n",
    "fingertip_0_frame = plant.GetFrameByName(\"finger_tip_link_0\")\n",
    "J = plant.CalcJacobianTranslationalVelocity(plant_context, JacobianWrtVariable.kQDot, fingertip_0_frame, np.zeros(3), plant.world_frame(), plant.world_frame())[:, :3]"
   ],
   "id": "d648458531fa3108",
   "outputs": [],
   "execution_count": 19
  },
  {
   "metadata": {
    "ExecuteTime": {
     "end_time": "2024-08-12T03:17:02.666593Z",
     "start_time": "2024-08-12T03:17:02.663058Z"
    }
   },
   "cell_type": "code",
   "source": "ydd_cmd = J @ np.linalg.inv(mass_matrix) @ (gravity_torque + 0.07 * np.array([-1, 1, 1]))",
   "id": "2304cd8b4f233ae6",
   "outputs": [],
   "execution_count": 37
  },
  {
   "metadata": {
    "ExecuteTime": {
     "end_time": "2024-08-12T15:22:13.436848Z",
     "start_time": "2024-08-12T15:22:13.433615Z"
    }
   },
   "cell_type": "code",
   "source": "kp = ydd_cmd / (np.ones(3) * 0.0004)",
   "id": "51b819c49df11fc0",
   "outputs": [],
   "execution_count": 45
  }
 ],
 "metadata": {
  "kernelspec": {
   "display_name": "cis5800",
   "language": "python",
   "name": "cis5800"
  },
  "language_info": {
   "codemirror_mode": {
    "name": "ipython",
    "version": 2
   },
   "file_extension": ".py",
   "mimetype": "text/x-python",
   "name": "python",
   "nbconvert_exporter": "python",
   "pygments_lexer": "ipython2",
   "version": "2.7.6"
  }
 },
 "nbformat": 4,
 "nbformat_minor": 5
}
